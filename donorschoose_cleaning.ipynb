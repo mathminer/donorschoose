{
 "cells": [
  {
   "cell_type": "markdown",
   "metadata": {},
   "source": [
    "# DonorsChoose.org"
   ]
  },
  {
   "cell_type": "markdown",
   "metadata": {},
   "source": [
    "Análie de dados do dataset do site donorschoose.org, retirado do Kaggle:\n",
    "https://www.kaggle.com/donorschoose/io#Teachers.csv"
   ]
  },
  {
   "cell_type": "markdown",
   "metadata": {},
   "source": [
    "## Teachers.csv"
   ]
  },
  {
   "cell_type": "code",
   "execution_count": 2,
   "metadata": {},
   "outputs": [],
   "source": [
    "# Loading the data\n",
    "\n",
    "import numpy as np\n",
    "import pandas as pd\n",
    "import seaborn as sns\n",
    "import matplotlib.pyplot as plt\n",
    "\n",
    "from matplotlib.ticker import MaxNLocator\n",
    "\n",
    "#display plots in the notebook\n",
    "#%matplotlib inline\n",
    "\n",
    "fname = 'Teachers.csv'\n",
    "data = pd.read_csv(fname)"
   ]
  },
  {
   "cell_type": "code",
   "execution_count": 3,
   "metadata": {},
   "outputs": [],
   "source": [
    "# Small function to show data distribution\n",
    "def show_distribution(Question):\n",
    "    nulls = data[Question].isnull().sum()\n",
    "    print('Nulls: ')\n",
    "    print(str(nulls) + \"\\t\" + str(round(nulls/n_rows*100,2)) + '%')\n",
    "    print('Number of unique values:', len(np.unique(data[Question])))\n",
    "    print('Distribution: ')\n",
    "    print(data[Question].value_counts())\n",
    "    "
   ]
  },
  {
   "cell_type": "code",
   "execution_count": 5,
   "metadata": {},
   "outputs": [
    {
     "data": {
      "text/plain": [
       "(402900, 3)"
      ]
     },
     "execution_count": 5,
     "metadata": {},
     "output_type": "execute_result"
    }
   ],
   "source": [
    "np.shape(data)"
   ]
  },
  {
   "cell_type": "code",
   "execution_count": 8,
   "metadata": {},
   "outputs": [],
   "source": [
    "n_rows = np.shape(data)[0]"
   ]
  },
  {
   "cell_type": "code",
   "execution_count": 6,
   "metadata": {},
   "outputs": [
    {
     "data": {
      "text/plain": [
       "Index(['Teacher ID', 'Teacher Prefix', 'Teacher First Project Posted Date'], dtype='object')"
      ]
     },
     "execution_count": 6,
     "metadata": {},
     "output_type": "execute_result"
    }
   ],
   "source": [
    "data.columns"
   ]
  },
  {
   "cell_type": "code",
   "execution_count": 10,
   "metadata": {},
   "outputs": [
    {
     "data": {
      "text/html": [
       "<div>\n",
       "<style scoped>\n",
       "    .dataframe tbody tr th:only-of-type {\n",
       "        vertical-align: middle;\n",
       "    }\n",
       "\n",
       "    .dataframe tbody tr th {\n",
       "        vertical-align: top;\n",
       "    }\n",
       "\n",
       "    .dataframe thead th {\n",
       "        text-align: right;\n",
       "    }\n",
       "</style>\n",
       "<table border=\"1\" class=\"dataframe\">\n",
       "  <thead>\n",
       "    <tr style=\"text-align: right;\">\n",
       "      <th></th>\n",
       "      <th>Teacher ID</th>\n",
       "      <th>Teacher Prefix</th>\n",
       "      <th>Teacher First Project Posted Date</th>\n",
       "    </tr>\n",
       "  </thead>\n",
       "  <tbody>\n",
       "    <tr>\n",
       "      <th>0</th>\n",
       "      <td>00000f7264c27ba6fea0c837ed6aa0aa</td>\n",
       "      <td>Mrs.</td>\n",
       "      <td>2013-08-21</td>\n",
       "    </tr>\n",
       "    <tr>\n",
       "      <th>1</th>\n",
       "      <td>00002d44003ed46b066607c5455a999a</td>\n",
       "      <td>Mrs.</td>\n",
       "      <td>2016-10-23</td>\n",
       "    </tr>\n",
       "    <tr>\n",
       "      <th>2</th>\n",
       "      <td>00006084c3d92d904a22e0a70f5c119a</td>\n",
       "      <td>Mr.</td>\n",
       "      <td>2016-09-08</td>\n",
       "    </tr>\n",
       "    <tr>\n",
       "      <th>3</th>\n",
       "      <td>0000a9af8b6b9cc9e41f53322a8b8cf1</td>\n",
       "      <td>Ms.</td>\n",
       "      <td>2015-10-25</td>\n",
       "    </tr>\n",
       "    <tr>\n",
       "      <th>4</th>\n",
       "      <td>0000d4777d14b33a1406dd6c9019fe89</td>\n",
       "      <td>Ms.</td>\n",
       "      <td>2017-02-10</td>\n",
       "    </tr>\n",
       "    <tr>\n",
       "      <th>5</th>\n",
       "      <td>0000fc11407901bcacdfad1db909b9f6</td>\n",
       "      <td>Mrs.</td>\n",
       "      <td>2015-06-22</td>\n",
       "    </tr>\n",
       "    <tr>\n",
       "      <th>6</th>\n",
       "      <td>0001349d10c5f48417b012530a303af3</td>\n",
       "      <td>Mr.</td>\n",
       "      <td>2018-04-23</td>\n",
       "    </tr>\n",
       "    <tr>\n",
       "      <th>7</th>\n",
       "      <td>00013e221e932f517ba9f82220668cd3</td>\n",
       "      <td>Ms.</td>\n",
       "      <td>2015-10-10</td>\n",
       "    </tr>\n",
       "    <tr>\n",
       "      <th>8</th>\n",
       "      <td>0001757a2d3292b2e42d53cf85b51752</td>\n",
       "      <td>Mrs.</td>\n",
       "      <td>2011-10-28</td>\n",
       "    </tr>\n",
       "    <tr>\n",
       "      <th>9</th>\n",
       "      <td>0001c6641864a240eff74544a3596acf</td>\n",
       "      <td>Mr.</td>\n",
       "      <td>2013-04-19</td>\n",
       "    </tr>\n",
       "    <tr>\n",
       "      <th>10</th>\n",
       "      <td>0001f63e9437ebbba6ddaae0664037a7</td>\n",
       "      <td>Mrs.</td>\n",
       "      <td>2011-03-27</td>\n",
       "    </tr>\n",
       "    <tr>\n",
       "      <th>11</th>\n",
       "      <td>000226bf2362b3ea92229b29c2edf737</td>\n",
       "      <td>Mr.</td>\n",
       "      <td>2015-02-23</td>\n",
       "    </tr>\n",
       "    <tr>\n",
       "      <th>12</th>\n",
       "      <td>000233fb8cbd3fcd20304423156cdf39</td>\n",
       "      <td>Ms.</td>\n",
       "      <td>2014-02-02</td>\n",
       "    </tr>\n",
       "    <tr>\n",
       "      <th>13</th>\n",
       "      <td>000269000db818304666cc2cd6cae642</td>\n",
       "      <td>Mr.</td>\n",
       "      <td>2014-07-03</td>\n",
       "    </tr>\n",
       "    <tr>\n",
       "      <th>14</th>\n",
       "      <td>0002806acba3480d65cec587c1afb1ee</td>\n",
       "      <td>Mrs.</td>\n",
       "      <td>2017-09-20</td>\n",
       "    </tr>\n",
       "    <tr>\n",
       "      <th>15</th>\n",
       "      <td>0002945e378e83fdee22b52e2c02b3e1</td>\n",
       "      <td>Mrs.</td>\n",
       "      <td>2017-09-08</td>\n",
       "    </tr>\n",
       "    <tr>\n",
       "      <th>16</th>\n",
       "      <td>0002bcb9f69cd91cbeae163fc9cd874f</td>\n",
       "      <td>Mrs.</td>\n",
       "      <td>2009-06-22</td>\n",
       "    </tr>\n",
       "    <tr>\n",
       "      <th>17</th>\n",
       "      <td>0002d777804d485adbcca7aad4ad96c5</td>\n",
       "      <td>Ms.</td>\n",
       "      <td>2015-01-25</td>\n",
       "    </tr>\n",
       "    <tr>\n",
       "      <th>18</th>\n",
       "      <td>00031ee2136eb183079ced8d13e678ef</td>\n",
       "      <td>Mrs.</td>\n",
       "      <td>2015-11-17</td>\n",
       "    </tr>\n",
       "    <tr>\n",
       "      <th>19</th>\n",
       "      <td>000374c660f97034cff49523c94f2ac9</td>\n",
       "      <td>Mrs.</td>\n",
       "      <td>2013-04-06</td>\n",
       "    </tr>\n",
       "    <tr>\n",
       "      <th>20</th>\n",
       "      <td>0003b1143d6410a5ddf91251eb812f82</td>\n",
       "      <td>Mrs.</td>\n",
       "      <td>2008-09-19</td>\n",
       "    </tr>\n",
       "    <tr>\n",
       "      <th>21</th>\n",
       "      <td>0003f6dbeb4660decee100b2308f91ab</td>\n",
       "      <td>Mr.</td>\n",
       "      <td>2008-03-29</td>\n",
       "    </tr>\n",
       "    <tr>\n",
       "      <th>22</th>\n",
       "      <td>00040a049ad9f348f841cc4287cb24a6</td>\n",
       "      <td>Ms.</td>\n",
       "      <td>2013-11-08</td>\n",
       "    </tr>\n",
       "    <tr>\n",
       "      <th>23</th>\n",
       "      <td>00041c3d3b2f4a8efd43f385dc688fbd</td>\n",
       "      <td>Mrs.</td>\n",
       "      <td>2016-05-03</td>\n",
       "    </tr>\n",
       "    <tr>\n",
       "      <th>24</th>\n",
       "      <td>0004416c6745afb13fe63ef0d45f3acb</td>\n",
       "      <td>Ms.</td>\n",
       "      <td>2017-08-09</td>\n",
       "    </tr>\n",
       "    <tr>\n",
       "      <th>25</th>\n",
       "      <td>000476bf6584f0ee3ea6e94b99d673e6</td>\n",
       "      <td>Mrs.</td>\n",
       "      <td>2017-04-29</td>\n",
       "    </tr>\n",
       "    <tr>\n",
       "      <th>26</th>\n",
       "      <td>00047f91f7624d57ae28662b751624db</td>\n",
       "      <td>Mrs.</td>\n",
       "      <td>2008-06-22</td>\n",
       "    </tr>\n",
       "    <tr>\n",
       "      <th>27</th>\n",
       "      <td>0004d30ae551f626ce3810d3883903c2</td>\n",
       "      <td>Mrs.</td>\n",
       "      <td>2013-01-20</td>\n",
       "    </tr>\n",
       "    <tr>\n",
       "      <th>28</th>\n",
       "      <td>0004e3c0027ac122207e4412367bd7a2</td>\n",
       "      <td>Ms.</td>\n",
       "      <td>2015-08-16</td>\n",
       "    </tr>\n",
       "    <tr>\n",
       "      <th>29</th>\n",
       "      <td>0004fe043a49093ddd494e630f9ef512</td>\n",
       "      <td>Mr.</td>\n",
       "      <td>2014-08-30</td>\n",
       "    </tr>\n",
       "    <tr>\n",
       "      <th>...</th>\n",
       "      <td>...</td>\n",
       "      <td>...</td>\n",
       "      <td>...</td>\n",
       "    </tr>\n",
       "    <tr>\n",
       "      <th>402870</th>\n",
       "      <td>fffa8ff7035a1173e080d9811b108e00</td>\n",
       "      <td>Mrs.</td>\n",
       "      <td>2015-09-13</td>\n",
       "    </tr>\n",
       "    <tr>\n",
       "      <th>402871</th>\n",
       "      <td>fffb2b8c260ea2678c5506586ade7a09</td>\n",
       "      <td>Ms.</td>\n",
       "      <td>2017-03-14</td>\n",
       "    </tr>\n",
       "    <tr>\n",
       "      <th>402872</th>\n",
       "      <td>fffb3377c71174843874b04f5ddfb9a7</td>\n",
       "      <td>Mrs.</td>\n",
       "      <td>2017-06-17</td>\n",
       "    </tr>\n",
       "    <tr>\n",
       "      <th>402873</th>\n",
       "      <td>fffb368120440683f9371494de10f308</td>\n",
       "      <td>Teacher</td>\n",
       "      <td>2016-09-28</td>\n",
       "    </tr>\n",
       "    <tr>\n",
       "      <th>402874</th>\n",
       "      <td>fffb57e5569d6be576e90913ab68eb6f</td>\n",
       "      <td>Mrs.</td>\n",
       "      <td>2016-07-11</td>\n",
       "    </tr>\n",
       "    <tr>\n",
       "      <th>402875</th>\n",
       "      <td>fffb8baa9ebc65ec02c9bac718a9145c</td>\n",
       "      <td>Ms.</td>\n",
       "      <td>2014-07-03</td>\n",
       "    </tr>\n",
       "    <tr>\n",
       "      <th>402876</th>\n",
       "      <td>fffb8fb6bf0d738b95a29106d4fa2319</td>\n",
       "      <td>Mr.</td>\n",
       "      <td>2017-07-28</td>\n",
       "    </tr>\n",
       "    <tr>\n",
       "      <th>402877</th>\n",
       "      <td>fffba0f7ee9e64570b87dcdca46df2d4</td>\n",
       "      <td>Mrs.</td>\n",
       "      <td>2007-07-17</td>\n",
       "    </tr>\n",
       "    <tr>\n",
       "      <th>402878</th>\n",
       "      <td>fffbeff94bee16d434c14e20a4db9a01</td>\n",
       "      <td>Ms.</td>\n",
       "      <td>2017-07-29</td>\n",
       "    </tr>\n",
       "    <tr>\n",
       "      <th>402879</th>\n",
       "      <td>fffc02e71ed74d0cbb456bd035bbda86</td>\n",
       "      <td>Ms.</td>\n",
       "      <td>2014-01-20</td>\n",
       "    </tr>\n",
       "    <tr>\n",
       "      <th>402880</th>\n",
       "      <td>fffc6171d99af3a739ce1b36eccb3cd2</td>\n",
       "      <td>Ms.</td>\n",
       "      <td>2016-10-29</td>\n",
       "    </tr>\n",
       "    <tr>\n",
       "      <th>402881</th>\n",
       "      <td>fffc8063fefd271719cb27cd019de746</td>\n",
       "      <td>Teacher</td>\n",
       "      <td>2016-02-03</td>\n",
       "    </tr>\n",
       "    <tr>\n",
       "      <th>402882</th>\n",
       "      <td>fffc9afceefa374f1157db52e4ea61e2</td>\n",
       "      <td>Mrs.</td>\n",
       "      <td>2016-07-25</td>\n",
       "    </tr>\n",
       "    <tr>\n",
       "      <th>402883</th>\n",
       "      <td>fffcbb57a53946588841dfa3d0866f9b</td>\n",
       "      <td>Mrs.</td>\n",
       "      <td>2013-02-24</td>\n",
       "    </tr>\n",
       "    <tr>\n",
       "      <th>402884</th>\n",
       "      <td>fffd64e2ef039de1da42fa3511ff64be</td>\n",
       "      <td>Mrs.</td>\n",
       "      <td>2013-11-18</td>\n",
       "    </tr>\n",
       "    <tr>\n",
       "      <th>402885</th>\n",
       "      <td>fffd67203dc580485e30d8a8820ef2bf</td>\n",
       "      <td>Mrs.</td>\n",
       "      <td>2017-05-01</td>\n",
       "    </tr>\n",
       "    <tr>\n",
       "      <th>402886</th>\n",
       "      <td>fffddcf7810ba26f77c4c3de8d93a615</td>\n",
       "      <td>Mrs.</td>\n",
       "      <td>2015-11-21</td>\n",
       "    </tr>\n",
       "    <tr>\n",
       "      <th>402887</th>\n",
       "      <td>fffdfe7e032e375bff83de5b00cc2c3d</td>\n",
       "      <td>Ms.</td>\n",
       "      <td>2017-09-24</td>\n",
       "    </tr>\n",
       "    <tr>\n",
       "      <th>402888</th>\n",
       "      <td>fffe32dfb8430f90c2982401f5e2a60f</td>\n",
       "      <td>Mrs.</td>\n",
       "      <td>2017-12-11</td>\n",
       "    </tr>\n",
       "    <tr>\n",
       "      <th>402889</th>\n",
       "      <td>fffe543adc962547e0666e53ae7c4773</td>\n",
       "      <td>Mr.</td>\n",
       "      <td>2016-04-16</td>\n",
       "    </tr>\n",
       "    <tr>\n",
       "      <th>402890</th>\n",
       "      <td>fffe56ecd1382490b5995a308d9476d9</td>\n",
       "      <td>Mr.</td>\n",
       "      <td>2014-04-06</td>\n",
       "    </tr>\n",
       "    <tr>\n",
       "      <th>402891</th>\n",
       "      <td>fffed4187f3b5f17cb58536f7fac8dee</td>\n",
       "      <td>Mrs.</td>\n",
       "      <td>2013-12-08</td>\n",
       "    </tr>\n",
       "    <tr>\n",
       "      <th>402892</th>\n",
       "      <td>ffff28c36789640c28a4f6c005cb8554</td>\n",
       "      <td>Mr.</td>\n",
       "      <td>2014-06-16</td>\n",
       "    </tr>\n",
       "    <tr>\n",
       "      <th>402893</th>\n",
       "      <td>ffff486ac82bf347e51e39f5a72af66d</td>\n",
       "      <td>Mr.</td>\n",
       "      <td>2011-11-10</td>\n",
       "    </tr>\n",
       "    <tr>\n",
       "      <th>402894</th>\n",
       "      <td>ffff55d4742390f0f0a16df88c7411a9</td>\n",
       "      <td>Ms.</td>\n",
       "      <td>2014-05-18</td>\n",
       "    </tr>\n",
       "    <tr>\n",
       "      <th>402895</th>\n",
       "      <td>ffff80baec08450113ceb12f068d9cb4</td>\n",
       "      <td>Mrs.</td>\n",
       "      <td>2016-11-02</td>\n",
       "    </tr>\n",
       "    <tr>\n",
       "      <th>402896</th>\n",
       "      <td>ffff8bee61b72c484b10e43aa9e35bc9</td>\n",
       "      <td>Ms.</td>\n",
       "      <td>2016-08-25</td>\n",
       "    </tr>\n",
       "    <tr>\n",
       "      <th>402897</th>\n",
       "      <td>ffff8e040521f62207881376ecc964d5</td>\n",
       "      <td>Mrs.</td>\n",
       "      <td>2009-02-11</td>\n",
       "    </tr>\n",
       "    <tr>\n",
       "      <th>402898</th>\n",
       "      <td>ffffd6109de6e84c522f0aacb28a6470</td>\n",
       "      <td>Ms.</td>\n",
       "      <td>2016-09-01</td>\n",
       "    </tr>\n",
       "    <tr>\n",
       "      <th>402899</th>\n",
       "      <td>fffff9055756ed29a5aa13ee8e222ac8</td>\n",
       "      <td>Mrs.</td>\n",
       "      <td>2014-03-08</td>\n",
       "    </tr>\n",
       "  </tbody>\n",
       "</table>\n",
       "<p>402900 rows × 3 columns</p>\n",
       "</div>"
      ],
      "text/plain": [
       "                              Teacher ID Teacher Prefix  \\\n",
       "0       00000f7264c27ba6fea0c837ed6aa0aa           Mrs.   \n",
       "1       00002d44003ed46b066607c5455a999a           Mrs.   \n",
       "2       00006084c3d92d904a22e0a70f5c119a            Mr.   \n",
       "3       0000a9af8b6b9cc9e41f53322a8b8cf1            Ms.   \n",
       "4       0000d4777d14b33a1406dd6c9019fe89            Ms.   \n",
       "5       0000fc11407901bcacdfad1db909b9f6           Mrs.   \n",
       "6       0001349d10c5f48417b012530a303af3            Mr.   \n",
       "7       00013e221e932f517ba9f82220668cd3            Ms.   \n",
       "8       0001757a2d3292b2e42d53cf85b51752           Mrs.   \n",
       "9       0001c6641864a240eff74544a3596acf            Mr.   \n",
       "10      0001f63e9437ebbba6ddaae0664037a7           Mrs.   \n",
       "11      000226bf2362b3ea92229b29c2edf737            Mr.   \n",
       "12      000233fb8cbd3fcd20304423156cdf39            Ms.   \n",
       "13      000269000db818304666cc2cd6cae642            Mr.   \n",
       "14      0002806acba3480d65cec587c1afb1ee           Mrs.   \n",
       "15      0002945e378e83fdee22b52e2c02b3e1           Mrs.   \n",
       "16      0002bcb9f69cd91cbeae163fc9cd874f           Mrs.   \n",
       "17      0002d777804d485adbcca7aad4ad96c5            Ms.   \n",
       "18      00031ee2136eb183079ced8d13e678ef           Mrs.   \n",
       "19      000374c660f97034cff49523c94f2ac9           Mrs.   \n",
       "20      0003b1143d6410a5ddf91251eb812f82           Mrs.   \n",
       "21      0003f6dbeb4660decee100b2308f91ab            Mr.   \n",
       "22      00040a049ad9f348f841cc4287cb24a6            Ms.   \n",
       "23      00041c3d3b2f4a8efd43f385dc688fbd           Mrs.   \n",
       "24      0004416c6745afb13fe63ef0d45f3acb            Ms.   \n",
       "25      000476bf6584f0ee3ea6e94b99d673e6           Mrs.   \n",
       "26      00047f91f7624d57ae28662b751624db           Mrs.   \n",
       "27      0004d30ae551f626ce3810d3883903c2           Mrs.   \n",
       "28      0004e3c0027ac122207e4412367bd7a2            Ms.   \n",
       "29      0004fe043a49093ddd494e630f9ef512            Mr.   \n",
       "...                                  ...            ...   \n",
       "402870  fffa8ff7035a1173e080d9811b108e00           Mrs.   \n",
       "402871  fffb2b8c260ea2678c5506586ade7a09            Ms.   \n",
       "402872  fffb3377c71174843874b04f5ddfb9a7           Mrs.   \n",
       "402873  fffb368120440683f9371494de10f308        Teacher   \n",
       "402874  fffb57e5569d6be576e90913ab68eb6f           Mrs.   \n",
       "402875  fffb8baa9ebc65ec02c9bac718a9145c            Ms.   \n",
       "402876  fffb8fb6bf0d738b95a29106d4fa2319            Mr.   \n",
       "402877  fffba0f7ee9e64570b87dcdca46df2d4           Mrs.   \n",
       "402878  fffbeff94bee16d434c14e20a4db9a01            Ms.   \n",
       "402879  fffc02e71ed74d0cbb456bd035bbda86            Ms.   \n",
       "402880  fffc6171d99af3a739ce1b36eccb3cd2            Ms.   \n",
       "402881  fffc8063fefd271719cb27cd019de746        Teacher   \n",
       "402882  fffc9afceefa374f1157db52e4ea61e2           Mrs.   \n",
       "402883  fffcbb57a53946588841dfa3d0866f9b           Mrs.   \n",
       "402884  fffd64e2ef039de1da42fa3511ff64be           Mrs.   \n",
       "402885  fffd67203dc580485e30d8a8820ef2bf           Mrs.   \n",
       "402886  fffddcf7810ba26f77c4c3de8d93a615           Mrs.   \n",
       "402887  fffdfe7e032e375bff83de5b00cc2c3d            Ms.   \n",
       "402888  fffe32dfb8430f90c2982401f5e2a60f           Mrs.   \n",
       "402889  fffe543adc962547e0666e53ae7c4773            Mr.   \n",
       "402890  fffe56ecd1382490b5995a308d9476d9            Mr.   \n",
       "402891  fffed4187f3b5f17cb58536f7fac8dee           Mrs.   \n",
       "402892  ffff28c36789640c28a4f6c005cb8554            Mr.   \n",
       "402893  ffff486ac82bf347e51e39f5a72af66d            Mr.   \n",
       "402894  ffff55d4742390f0f0a16df88c7411a9            Ms.   \n",
       "402895  ffff80baec08450113ceb12f068d9cb4           Mrs.   \n",
       "402896  ffff8bee61b72c484b10e43aa9e35bc9            Ms.   \n",
       "402897  ffff8e040521f62207881376ecc964d5           Mrs.   \n",
       "402898  ffffd6109de6e84c522f0aacb28a6470            Ms.   \n",
       "402899  fffff9055756ed29a5aa13ee8e222ac8           Mrs.   \n",
       "\n",
       "       Teacher First Project Posted Date  \n",
       "0                             2013-08-21  \n",
       "1                             2016-10-23  \n",
       "2                             2016-09-08  \n",
       "3                             2015-10-25  \n",
       "4                             2017-02-10  \n",
       "5                             2015-06-22  \n",
       "6                             2018-04-23  \n",
       "7                             2015-10-10  \n",
       "8                             2011-10-28  \n",
       "9                             2013-04-19  \n",
       "10                            2011-03-27  \n",
       "11                            2015-02-23  \n",
       "12                            2014-02-02  \n",
       "13                            2014-07-03  \n",
       "14                            2017-09-20  \n",
       "15                            2017-09-08  \n",
       "16                            2009-06-22  \n",
       "17                            2015-01-25  \n",
       "18                            2015-11-17  \n",
       "19                            2013-04-06  \n",
       "20                            2008-09-19  \n",
       "21                            2008-03-29  \n",
       "22                            2013-11-08  \n",
       "23                            2016-05-03  \n",
       "24                            2017-08-09  \n",
       "25                            2017-04-29  \n",
       "26                            2008-06-22  \n",
       "27                            2013-01-20  \n",
       "28                            2015-08-16  \n",
       "29                            2014-08-30  \n",
       "...                                  ...  \n",
       "402870                        2015-09-13  \n",
       "402871                        2017-03-14  \n",
       "402872                        2017-06-17  \n",
       "402873                        2016-09-28  \n",
       "402874                        2016-07-11  \n",
       "402875                        2014-07-03  \n",
       "402876                        2017-07-28  \n",
       "402877                        2007-07-17  \n",
       "402878                        2017-07-29  \n",
       "402879                        2014-01-20  \n",
       "402880                        2016-10-29  \n",
       "402881                        2016-02-03  \n",
       "402882                        2016-07-25  \n",
       "402883                        2013-02-24  \n",
       "402884                        2013-11-18  \n",
       "402885                        2017-05-01  \n",
       "402886                        2015-11-21  \n",
       "402887                        2017-09-24  \n",
       "402888                        2017-12-11  \n",
       "402889                        2016-04-16  \n",
       "402890                        2014-04-06  \n",
       "402891                        2013-12-08  \n",
       "402892                        2014-06-16  \n",
       "402893                        2011-11-10  \n",
       "402894                        2014-05-18  \n",
       "402895                        2016-11-02  \n",
       "402896                        2016-08-25  \n",
       "402897                        2009-02-11  \n",
       "402898                        2016-09-01  \n",
       "402899                        2014-03-08  \n",
       "\n",
       "[402900 rows x 3 columns]"
      ]
     },
     "execution_count": 10,
     "metadata": {},
     "output_type": "execute_result"
    }
   ],
   "source": [
    "data"
   ]
  },
  {
   "cell_type": "code",
   "execution_count": 11,
   "metadata": {},
   "outputs": [],
   "source": [
    "data = data.where((pd.notnull(data)), 'None')"
   ]
  },
  {
   "cell_type": "markdown",
   "metadata": {},
   "source": [
    "Os valores em falta foram preenchidos com a string 'None'."
   ]
  },
  {
   "cell_type": "code",
   "execution_count": 12,
   "metadata": {},
   "outputs": [
    {
     "name": "stdout",
     "output_type": "stream",
     "text": [
      "Nulls: \n",
      "0\t0.0%\n",
      "Number of unique values: 7\n",
      "Distribution: \n",
      "Mrs.       202142\n",
      "Ms.        145761\n",
      "Mr.         47480\n",
      "Teacher      7404\n",
      "Dr.            57\n",
      "None           28\n",
      "Mx.            28\n",
      "Name: Teacher Prefix, dtype: int64\n"
     ]
    }
   ],
   "source": [
    "show_distribution('Teacher Prefix')"
   ]
  },
  {
   "cell_type": "code",
   "execution_count": 13,
   "metadata": {},
   "outputs": [
    {
     "data": {
      "text/plain": [
       "<matplotlib.axes._subplots.AxesSubplot at 0x215517ec208>"
      ]
     },
     "execution_count": 13,
     "metadata": {},
     "output_type": "execute_result"
    },
    {
     "data": {
      "image/png": "[encoded data removed]",
      "text/plain": [
       "<Figure size 432x288 with 1 Axes>"
      ]
     },
     "metadata": {
      "needs_background": "light"
     },
     "output_type": "display_data"
    }
   ],
   "source": [
    "from collections import Counter\n",
    "counts = Counter(np.sort(data['Teacher Prefix']))\n",
    "\n",
    "df = pd.DataFrame.from_dict(counts, orient='index')\n",
    "df.plot(kind='bar')"
   ]
  },
  {
   "cell_type": "code",
   "execution_count": 15,
   "metadata": {},
   "outputs": [
    {
     "name": "stdout",
     "output_type": "stream",
     "text": [
      "Nulls: \n",
      "0\t0.0%\n",
      "Number of unique values: 4699\n",
      "Distribution: \n",
      "2015-09-13    2067\n",
      "2018-03-30    1350\n",
      "2014-08-24    1157\n",
      "2015-08-20    1125\n",
      "2016-08-21    1095\n",
      "2015-08-21    1005\n",
      "2017-10-02     956\n",
      "2014-09-07     928\n",
      "2016-09-04     923\n",
      "2014-09-06     911\n",
      "2018-04-16     904\n",
      "2016-09-05     812\n",
      "2016-09-03     799\n",
      "2014-09-14     777\n",
      "2016-08-05     767\n",
      "2018-03-29     752\n",
      "2014-09-21     728\n",
      "2016-09-10     723\n",
      "2017-07-24     713\n",
      "2017-07-28     713\n",
      "2014-09-27     708\n",
      "2015-09-01     702\n",
      "2016-08-14     702\n",
      "2016-08-25     691\n",
      "2017-10-16     682\n",
      "2014-09-13     682\n",
      "2015-11-22     677\n",
      "2018-04-09     671\n",
      "2016-09-19     666\n",
      "2014-09-20     629\n",
      "              ... \n",
      "2005-01-19       1\n",
      "2005-03-16       1\n",
      "2005-05-11       1\n",
      "2003-08-04       1\n",
      "2008-01-12       1\n",
      "2006-01-18       1\n",
      "2006-02-12       1\n",
      "2007-02-08       1\n",
      "2004-01-23       1\n",
      "2006-03-09       1\n",
      "2009-08-17       1\n",
      "2005-09-13       1\n",
      "2007-05-10       1\n",
      "2007-06-15       1\n",
      "2006-03-12       1\n",
      "2006-03-31       1\n",
      "2005-07-31       1\n",
      "2003-09-15       1\n",
      "2006-11-18       1\n",
      "2007-03-15       1\n",
      "2002-10-11       1\n",
      "2006-02-17       1\n",
      "2008-03-22       1\n",
      "2002-11-05       1\n",
      "2005-12-27       1\n",
      "2006-06-14       1\n",
      "2005-02-09       1\n",
      "2003-07-09       1\n",
      "2005-06-06       1\n",
      "2005-04-20       1\n",
      "Name: Teacher First Project Posted Date, Length: 4699, dtype: int64\n"
     ]
    }
   ],
   "source": [
    "show_distribution('Teacher First Project Posted Date')"
   ]
  },
  {
   "cell_type": "code",
   "execution_count": 16,
   "metadata": {},
   "outputs": [
    {
     "data": {
      "text/html": [
       "<div>\n",
       "<style scoped>\n",
       "    .dataframe tbody tr th:only-of-type {\n",
       "        vertical-align: middle;\n",
       "    }\n",
       "\n",
       "    .dataframe tbody tr th {\n",
       "        vertical-align: top;\n",
       "    }\n",
       "\n",
       "    .dataframe thead th {\n",
       "        text-align: right;\n",
       "    }\n",
       "</style>\n",
       "<table border=\"1\" class=\"dataframe\">\n",
       "  <thead>\n",
       "    <tr style=\"text-align: right;\">\n",
       "      <th></th>\n",
       "      <th>Teacher ID</th>\n",
       "      <th>Teacher Prefix</th>\n",
       "      <th>Teacher First Project Posted Date</th>\n",
       "    </tr>\n",
       "  </thead>\n",
       "  <tbody>\n",
       "  </tbody>\n",
       "</table>\n",
       "</div>"
      ],
      "text/plain": [
       "Empty DataFrame\n",
       "Columns: [Teacher ID, Teacher Prefix, Teacher First Project Posted Date]\n",
       "Index: []"
      ]
     },
     "execution_count": 16,
     "metadata": {},
     "output_type": "execute_result"
    }
   ],
   "source": [
    "data[data['Teacher First Project Posted Date'] == 'None']"
   ]
  },
  {
   "cell_type": "markdown",
   "metadata": {},
   "source": [
    "Não tem Nones."
   ]
  },
  {
   "cell_type": "code",
   "execution_count": 17,
   "metadata": {},
   "outputs": [
    {
     "data": {
      "text/plain": [
       "str"
      ]
     },
     "execution_count": 17,
     "metadata": {},
     "output_type": "execute_result"
    }
   ],
   "source": [
    "type(data['Teacher First Project Posted Date'][0])"
   ]
  },
  {
   "cell_type": "code",
   "execution_count": 20,
   "metadata": {},
   "outputs": [],
   "source": [
    "data['Teacher First Project Posted Date'] = pd.to_datetime(data['Teacher First Project Posted Date'])"
   ]
  },
  {
   "cell_type": "code",
   "execution_count": 21,
   "metadata": {},
   "outputs": [
    {
     "data": {
      "text/plain": [
       "pandas._libs.tslibs.timestamps.Timestamp"
      ]
     },
     "execution_count": 21,
     "metadata": {},
     "output_type": "execute_result"
    }
   ],
   "source": [
    "type(data['Teacher First Project Posted Date'][0])"
   ]
  },
  {
   "cell_type": "code",
   "execution_count": 34,
   "metadata": {},
   "outputs": [
    {
     "data": {
      "text/html": [
       "<div>\n",
       "<style scoped>\n",
       "    .dataframe tbody tr th:only-of-type {\n",
       "        vertical-align: middle;\n",
       "    }\n",
       "\n",
       "    .dataframe tbody tr th {\n",
       "        vertical-align: top;\n",
       "    }\n",
       "\n",
       "    .dataframe thead th {\n",
       "        text-align: right;\n",
       "    }\n",
       "</style>\n",
       "<table border=\"1\" class=\"dataframe\">\n",
       "  <thead>\n",
       "    <tr style=\"text-align: right;\">\n",
       "      <th></th>\n",
       "      <th>Teacher ID</th>\n",
       "      <th>Teacher Prefix</th>\n",
       "      <th>Teacher First Project Posted Date</th>\n",
       "    </tr>\n",
       "  </thead>\n",
       "  <tbody>\n",
       "  </tbody>\n",
       "</table>\n",
       "</div>"
      ],
      "text/plain": [
       "Empty DataFrame\n",
       "Columns: [Teacher ID, Teacher Prefix, Teacher First Project Posted Date]\n",
       "Index: []"
      ]
     },
     "execution_count": 34,
     "metadata": {},
     "output_type": "execute_result"
    }
   ],
   "source": [
    "data[(data['Teacher First Project Posted Date'] > '2018-05-31') & (data['Teacher First Project Posted Date'] < '2000-01-01')]"
   ]
  },
  {
   "cell_type": "markdown",
   "metadata": {},
   "source": [
    "Não existem datas fora do intervalo de recolha de dados (depois de Maio de 2018 ou antes de 2000)"
   ]
  },
  {
   "cell_type": "code",
   "execution_count": 35,
   "metadata": {},
   "outputs": [
    {
     "data": {
      "text/plain": [
       "<matplotlib.axes._subplots.AxesSubplot at 0x21551722668>"
      ]
     },
     "execution_count": 35,
     "metadata": {},
     "output_type": "execute_result"
    },
    {
     "data": {
      "image/png": "[encoded data removed]",
      "text/plain": [
       "<Figure size 432x288 with 1 Axes>"
      ]
     },
     "metadata": {
      "needs_background": "light"
     },
     "output_type": "display_data"
    }
   ],
   "source": [
    "counts = Counter(np.sort(data['Teacher First Project Posted Date']))\n",
    "\n",
    "df = pd.DataFrame.from_dict(counts, orient='index')\n",
    "df.plot(kind='line')"
   ]
  },
  {
   "cell_type": "code",
   "execution_count": 38,
   "metadata": {},
   "outputs": [
    {
     "data": {
      "text/plain": [
       "{2000: 0,\n",
       " 2001: 0,\n",
       " 2002: 0,\n",
       " 2003: 0,\n",
       " 2004: 0,\n",
       " 2005: 0,\n",
       " 2006: 0,\n",
       " 2007: 0,\n",
       " 2008: 0,\n",
       " 2009: 0,\n",
       " 2010: 0,\n",
       " 2011: 0,\n",
       " 2012: 0,\n",
       " 2013: 0,\n",
       " 2014: 0,\n",
       " 2015: 0,\n",
       " 2016: 0,\n",
       " 2017: 0,\n",
       " 2018: 0}"
      ]
     },
     "execution_count": 38,
     "metadata": {},
     "output_type": "execute_result"
    }
   ],
   "source": [
    "d = dict.fromkeys(range(2000,2019), 0)\n",
    "d"
   ]
  },
  {
   "cell_type": "code",
   "execution_count": 41,
   "metadata": {},
   "outputs": [
    {
     "data": {
      "text/plain": [
       "{2000: 0,\n",
       " 2001: 0,\n",
       " 2002: 26,\n",
       " 2003: 104,\n",
       " 2004: 432,\n",
       " 2005: 964,\n",
       " 2006: 2170,\n",
       " 2007: 4446,\n",
       " 2008: 7118,\n",
       " 2009: 10182,\n",
       " 2010: 16966,\n",
       " 2011: 21894,\n",
       " 2012: 35226,\n",
       " 2013: 98536,\n",
       " 2014: 116662,\n",
       " 2015: 125640,\n",
       " 2016: 160862,\n",
       " 2017: 151370,\n",
       " 2018: 53202}"
      ]
     },
     "execution_count": 41,
     "metadata": {},
     "output_type": "execute_result"
    }
   ],
   "source": [
    "for date in data['Teacher First Project Posted Date']:\n",
    "    d[date.year] += 1\n",
    "\n",
    "d"
   ]
  },
  {
   "cell_type": "code",
   "execution_count": 42,
   "metadata": {},
   "outputs": [
    {
     "data": {
      "text/plain": [
       "<matplotlib.axes._subplots.AxesSubplot at 0x21551b8a898>"
      ]
     },
     "execution_count": 42,
     "metadata": {},
     "output_type": "execute_result"
    },
    {
     "data": {
      "image/png": "[encoded data removed]",
      "text/plain": [
       "<Figure size 432x288 with 1 Axes>"
      ]
     },
     "metadata": {
      "needs_background": "light"
     },
     "output_type": "display_data"
    }
   ],
   "source": [
    "df = pd.DataFrame.from_dict(d, orient='index')\n",
    "df.plot(kind='bar')"
   ]
  },
  {
   "cell_type": "markdown",
   "metadata": {},
   "source": [
    "Uma sugestão seria eliminar as entradas de 2018 uma ve que não existe informação após Maio, e pode estragar estatísticas temporais de ano a ano."
   ]
  },
  {
   "cell_type": "markdown",
   "metadata": {},
   "source": []
  }
 ],
 "metadata": {
  "kernelspec": {
   "display_name": "Python 3",
   "language": "python",
   "name": "python3"
  },
  "language_info": {
   "codemirror_mode": {
    "name": "ipython",
    "version": 3
   },
   "file_extension": ".py",
   "mimetype": "text/x-python",
   "name": "python",
   "nbconvert_exporter": "python",
   "pygments_lexer": "ipython3",
   "version": "3.6.8"
  }
 },
 "nbformat": 4,
 "nbformat_minor": 2
}
