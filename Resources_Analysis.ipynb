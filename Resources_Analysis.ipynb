{
 "cells": [
  {
   "cell_type": "markdown",
   "metadata": {},
   "source": [
    "# Tabela Resources"
   ]
  },
  {
   "cell_type": "code",
   "execution_count": 22,
   "metadata": {},
   "outputs": [],
   "source": [
    "# Loading the data\n",
    "\n",
    "import numpy as np\n",
    "import pandas as pd\n",
    "import seaborn as sns\n",
    "import matplotlib.pyplot as plt\n",
    "\n",
    "from matplotlib.ticker import MaxNLocator\n",
    "\n",
    "#display plots in the notebook\n",
    "#%matplotlib inline\n",
    "\n",
    "fname = 'Resources.csv'\n",
    "data = pd.read_csv(fname)"
   ]
  },
  {
   "cell_type": "code",
   "execution_count": 2,
   "metadata": {},
   "outputs": [],
   "source": [
    "# Small function to show data distribution\n",
    "def show_distribution(Question):\n",
    "    nulls = data[Question].isnull().sum()\n",
    "    print('Nulls: ')\n",
    "    print(str(nulls) + \"\\t\" + str(round(nulls/n_rows*100,2)) + '%')\n",
    "    print('Number of unique values:', len(np.unique(data[Question])))\n",
    "    print('Distribution: ')\n",
    "    print(data[Question].value_counts())"
   ]
  },
  {
   "cell_type": "code",
   "execution_count": 3,
   "metadata": {},
   "outputs": [
    {
     "data": {
      "text/plain": [
       "(7210448, 5)"
      ]
     },
     "execution_count": 3,
     "metadata": {},
     "output_type": "execute_result"
    }
   ],
   "source": [
    "np.shape(data)"
   ]
  },
  {
   "cell_type": "code",
   "execution_count": 23,
   "metadata": {},
   "outputs": [],
   "source": [
    "n_rows = np.shape(data)[0]"
   ]
  },
  {
   "cell_type": "code",
   "execution_count": 4,
   "metadata": {},
   "outputs": [
    {
     "data": {
      "text/plain": [
       "Index(['Project ID', 'Resource Item Name', 'Resource Quantity',\n",
       "       'Resource Unit Price', 'Resource Vendor Name'],\n",
       "      dtype='object')"
      ]
     },
     "execution_count": 4,
     "metadata": {},
     "output_type": "execute_result"
    }
   ],
   "source": [
    "data.columns"
   ]
  },
  {
   "cell_type": "code",
   "execution_count": 7,
   "metadata": {
    "scrolled": true
   },
   "outputs": [
    {
     "name": "stdout",
     "output_type": "stream",
     "text": [
      "Nulls: \n",
      "0\t0.0%\n",
      "Number of unique values: 1208649\n",
      "Distribution: \n",
      "07a021f92447be2ef4a6cb955bc4c1d1    367\n",
      "b2304d2fed2cdb4aecea50c1e35171b4    366\n",
      "61f7be7e54e1042757e4f844b8109a9d    340\n",
      "544533ba75f043705223fe34864798e5    322\n",
      "ceafa826becef13d4d7bfe08a012d76b    301\n",
      "218debf37ecde5dd29ede65a2f895734    290\n",
      "5f60625ec9901329413c54e2895f8821    264\n",
      "54fc97c5b99f386d5b868c0e05e3ddde    262\n",
      "6c9e5cb9269101772940efc684bf0faa    253\n",
      "d76b7117fe4f77b6704b72fff0ef67b3    251\n",
      "3aec0450068928322b2ec6ec887fe49d    249\n",
      "e7287e1152230839a1e7cf634262c137    243\n",
      "8edbd5e28130f8bd4b44f47cc149e89b    236\n",
      "7d247ca458f6933569be2e95da2e9dea    231\n",
      "3f0f8dd3e6bc5a243baffcef35d62f36    230\n",
      "fe3d1c9f74d0cd20bcf19792791833ea    225\n",
      "ef812d1aa61ab68525741980681d6ddf    223\n",
      "aee44ac7841a245ecd72e75734a0ec72    222\n",
      "b3d7eef77039da627ea4bb97050f2dab    222\n",
      "b9386faa0801c76c72da324a223fd141    221\n",
      "9ad1e12f515f1f6706d565f79a222fa8    220\n",
      "5d67ef671b2a70a2bb6ad32a427682eb    219\n",
      "cd6d87a13f15deefb16659341b1b0237    214\n",
      "5b9f63227edea8ad1542666eed4a3c0c    214\n",
      "dd844ea5c45c67fb4068f6af3284f7f8    212\n",
      "94774d901471af32a6e07668fd3eafa2    211\n",
      "b0b139f06f038c14c36b047baea5fd60    207\n",
      "5512b3e3075eb43392b29cfae5e7d312    206\n",
      "67e8e1e798c9dae378b6df78ea4e441a    205\n",
      "c72919044e274aad9019927cc20aa664    203\n",
      "                                   ... \n",
      "b59a822d58c91e2fc3a02dbfcbb47f4a      1\n",
      "3a5b2a162992bfd5e003e600b3ae2a94      1\n",
      "f92fa1023c835428fc89417344a861a6      1\n",
      "047bd883603f684481386edf1665d591      1\n",
      "96cee80c08a68a8fb2cb86632972ea92      1\n",
      "277933bc4f226fae3bb3861ea6cee54c      1\n",
      "29231240f8d970183bd4a26e98cf5853      1\n",
      "eb2e0770ac915d841ef7aff0b1a946c3      1\n",
      "1d20da4c56b05d851fd8dcc46dce2430      1\n",
      "28db7f1489e368c3685b27806b603340      1\n",
      "1e101f3f46b8308e9ec5285e1fe10f99      1\n",
      "74f85f5e55e5468d1d2c30cb65c69b74      1\n",
      "8040247e0a30cdbd3f93663254e298ff      1\n",
      "b4f416a8c681929bf3ce72c560ceb8cc      1\n",
      "ca9a7467c1a866c271d3ad40ca7f0e54      1\n",
      "7a20deaa9fcf6025169a226653fca04e      1\n",
      "c0ab2fbeb28b90daf920d5a7d5aa2a58      1\n",
      "3da4e10a88ff0a3ed166434131b39085      1\n",
      "e8398b8d07485349b7ab26d5b011ca92      1\n",
      "19c04fbc74a01c5c0e1ab8caa80bc577      1\n",
      "b8eb4c31a0b6aff8aab0b57121eb0cdf      1\n",
      "879f99f4b2337e820e24dbd9fd12c72a      1\n",
      "8cddc1da17635df2530adeab8936ad36      1\n",
      "291cc35e6becc0f31c0c461cd1f87ed2      1\n",
      "dabcb4d8e7526eb2592c2e5e8f5390b6      1\n",
      "806be80ed94c2f597d076285faba2aa5      1\n",
      "a5348569134f7c57bfcda849c5c93e94      1\n",
      "d60ee3a71c4c85a960706c4b65fd7183      1\n",
      "ecc904a141454fe2b9d3547a2284799b      1\n",
      "1e61c1a087d427da36b040bb30841b26      1\n",
      "Name: Project ID, Length: 1208649, dtype: int64\n"
     ]
    }
   ],
   "source": [
    "show_distribution('Project ID')"
   ]
  },
  {
   "cell_type": "code",
   "execution_count": 24,
   "metadata": {},
   "outputs": [
    {
     "name": "stdout",
     "output_type": "stream",
     "text": [
      "Nulls: \n",
      "561\t0.01%\n"
     ]
    },
    {
     "ename": "TypeError",
     "evalue": "'<' not supported between instances of 'str' and 'float'",
     "output_type": "error",
     "traceback": [
      "\u001b[0;31m---------------------------------------------------------------------------\u001b[0m",
      "\u001b[0;31mTypeError\u001b[0m                                 Traceback (most recent call last)",
      "\u001b[0;32m<ipython-input-24-fbfb9f97e64c>\u001b[0m in \u001b[0;36m<module>\u001b[0;34m\u001b[0m\n\u001b[0;32m----> 1\u001b[0;31m \u001b[0mshow_distribution\u001b[0m\u001b[0;34m(\u001b[0m\u001b[0;34m'Resource Item Name'\u001b[0m\u001b[0;34m)\u001b[0m\u001b[0;34m\u001b[0m\u001b[0;34m\u001b[0m\u001b[0m\n\u001b[0m",
      "\u001b[0;32m<ipython-input-2-45547b260ddf>\u001b[0m in \u001b[0;36mshow_distribution\u001b[0;34m(Question)\u001b[0m\n\u001b[1;32m      4\u001b[0m     \u001b[0mprint\u001b[0m\u001b[0;34m(\u001b[0m\u001b[0;34m'Nulls: '\u001b[0m\u001b[0;34m)\u001b[0m\u001b[0;34m\u001b[0m\u001b[0;34m\u001b[0m\u001b[0m\n\u001b[1;32m      5\u001b[0m     \u001b[0mprint\u001b[0m\u001b[0;34m(\u001b[0m\u001b[0mstr\u001b[0m\u001b[0;34m(\u001b[0m\u001b[0mnulls\u001b[0m\u001b[0;34m)\u001b[0m \u001b[0;34m+\u001b[0m \u001b[0;34m\"\\t\"\u001b[0m \u001b[0;34m+\u001b[0m \u001b[0mstr\u001b[0m\u001b[0;34m(\u001b[0m\u001b[0mround\u001b[0m\u001b[0;34m(\u001b[0m\u001b[0mnulls\u001b[0m\u001b[0;34m/\u001b[0m\u001b[0mn_rows\u001b[0m\u001b[0;34m*\u001b[0m\u001b[0;36m100\u001b[0m\u001b[0;34m,\u001b[0m\u001b[0;36m2\u001b[0m\u001b[0;34m)\u001b[0m\u001b[0;34m)\u001b[0m \u001b[0;34m+\u001b[0m \u001b[0;34m'%'\u001b[0m\u001b[0;34m)\u001b[0m\u001b[0;34m\u001b[0m\u001b[0;34m\u001b[0m\u001b[0m\n\u001b[0;32m----> 6\u001b[0;31m     \u001b[0mprint\u001b[0m\u001b[0;34m(\u001b[0m\u001b[0;34m'Number of unique values:'\u001b[0m\u001b[0;34m,\u001b[0m \u001b[0mlen\u001b[0m\u001b[0;34m(\u001b[0m\u001b[0mnp\u001b[0m\u001b[0;34m.\u001b[0m\u001b[0munique\u001b[0m\u001b[0;34m(\u001b[0m\u001b[0mdata\u001b[0m\u001b[0;34m[\u001b[0m\u001b[0mQuestion\u001b[0m\u001b[0;34m]\u001b[0m\u001b[0;34m)\u001b[0m\u001b[0;34m)\u001b[0m\u001b[0;34m)\u001b[0m\u001b[0;34m\u001b[0m\u001b[0;34m\u001b[0m\u001b[0m\n\u001b[0m\u001b[1;32m      7\u001b[0m     \u001b[0mprint\u001b[0m\u001b[0;34m(\u001b[0m\u001b[0;34m'Distribution: '\u001b[0m\u001b[0;34m)\u001b[0m\u001b[0;34m\u001b[0m\u001b[0;34m\u001b[0m\u001b[0m\n\u001b[1;32m      8\u001b[0m     \u001b[0mprint\u001b[0m\u001b[0;34m(\u001b[0m\u001b[0mdata\u001b[0m\u001b[0;34m[\u001b[0m\u001b[0mQuestion\u001b[0m\u001b[0;34m]\u001b[0m\u001b[0;34m.\u001b[0m\u001b[0mvalue_counts\u001b[0m\u001b[0;34m(\u001b[0m\u001b[0;34m)\u001b[0m\u001b[0;34m)\u001b[0m\u001b[0;34m\u001b[0m\u001b[0;34m\u001b[0m\u001b[0m\n",
      "\u001b[0;32m~/anaconda3/lib/python3.7/site-packages/numpy/lib/arraysetops.py\u001b[0m in \u001b[0;36munique\u001b[0;34m(ar, return_index, return_inverse, return_counts, axis)\u001b[0m\n\u001b[1;32m    231\u001b[0m     \u001b[0mar\u001b[0m \u001b[0;34m=\u001b[0m \u001b[0mnp\u001b[0m\u001b[0;34m.\u001b[0m\u001b[0masanyarray\u001b[0m\u001b[0;34m(\u001b[0m\u001b[0mar\u001b[0m\u001b[0;34m)\u001b[0m\u001b[0;34m\u001b[0m\u001b[0;34m\u001b[0m\u001b[0m\n\u001b[1;32m    232\u001b[0m     \u001b[0;32mif\u001b[0m \u001b[0maxis\u001b[0m \u001b[0;32mis\u001b[0m \u001b[0;32mNone\u001b[0m\u001b[0;34m:\u001b[0m\u001b[0;34m\u001b[0m\u001b[0;34m\u001b[0m\u001b[0m\n\u001b[0;32m--> 233\u001b[0;31m         \u001b[0mret\u001b[0m \u001b[0;34m=\u001b[0m \u001b[0m_unique1d\u001b[0m\u001b[0;34m(\u001b[0m\u001b[0mar\u001b[0m\u001b[0;34m,\u001b[0m \u001b[0mreturn_index\u001b[0m\u001b[0;34m,\u001b[0m \u001b[0mreturn_inverse\u001b[0m\u001b[0;34m,\u001b[0m \u001b[0mreturn_counts\u001b[0m\u001b[0;34m)\u001b[0m\u001b[0;34m\u001b[0m\u001b[0;34m\u001b[0m\u001b[0m\n\u001b[0m\u001b[1;32m    234\u001b[0m         \u001b[0;32mreturn\u001b[0m \u001b[0m_unpack_tuple\u001b[0m\u001b[0;34m(\u001b[0m\u001b[0mret\u001b[0m\u001b[0;34m)\u001b[0m\u001b[0;34m\u001b[0m\u001b[0;34m\u001b[0m\u001b[0m\n\u001b[1;32m    235\u001b[0m \u001b[0;34m\u001b[0m\u001b[0m\n",
      "\u001b[0;32m~/anaconda3/lib/python3.7/site-packages/numpy/lib/arraysetops.py\u001b[0m in \u001b[0;36m_unique1d\u001b[0;34m(ar, return_index, return_inverse, return_counts)\u001b[0m\n\u001b[1;32m    279\u001b[0m         \u001b[0maux\u001b[0m \u001b[0;34m=\u001b[0m \u001b[0mar\u001b[0m\u001b[0;34m[\u001b[0m\u001b[0mperm\u001b[0m\u001b[0;34m]\u001b[0m\u001b[0;34m\u001b[0m\u001b[0;34m\u001b[0m\u001b[0m\n\u001b[1;32m    280\u001b[0m     \u001b[0;32melse\u001b[0m\u001b[0;34m:\u001b[0m\u001b[0;34m\u001b[0m\u001b[0;34m\u001b[0m\u001b[0m\n\u001b[0;32m--> 281\u001b[0;31m         \u001b[0mar\u001b[0m\u001b[0;34m.\u001b[0m\u001b[0msort\u001b[0m\u001b[0;34m(\u001b[0m\u001b[0;34m)\u001b[0m\u001b[0;34m\u001b[0m\u001b[0;34m\u001b[0m\u001b[0m\n\u001b[0m\u001b[1;32m    282\u001b[0m         \u001b[0maux\u001b[0m \u001b[0;34m=\u001b[0m \u001b[0mar\u001b[0m\u001b[0;34m\u001b[0m\u001b[0;34m\u001b[0m\u001b[0m\n\u001b[1;32m    283\u001b[0m     \u001b[0mmask\u001b[0m \u001b[0;34m=\u001b[0m \u001b[0mnp\u001b[0m\u001b[0;34m.\u001b[0m\u001b[0mempty\u001b[0m\u001b[0;34m(\u001b[0m\u001b[0maux\u001b[0m\u001b[0;34m.\u001b[0m\u001b[0mshape\u001b[0m\u001b[0;34m,\u001b[0m \u001b[0mdtype\u001b[0m\u001b[0;34m=\u001b[0m\u001b[0mnp\u001b[0m\u001b[0;34m.\u001b[0m\u001b[0mbool_\u001b[0m\u001b[0;34m)\u001b[0m\u001b[0;34m\u001b[0m\u001b[0;34m\u001b[0m\u001b[0m\n",
      "\u001b[0;31mTypeError\u001b[0m: '<' not supported between instances of 'str' and 'float'"
     ]
    }
   ],
   "source": [
    "show_distribution('Resource Item Name')"
   ]
  },
  {
   "cell_type": "code",
   "execution_count": null,
   "metadata": {},
   "outputs": [],
   "source": [
    "Achou dois tipos que não sabe comparar no Resource Item Name, isto deve-se aos nulls"
   ]
  },
  {
   "cell_type": "code",
   "execution_count": 25,
   "metadata": {},
   "outputs": [
    {
     "name": "stdout",
     "output_type": "stream",
     "text": [
      "Nulls: \n",
      "24299\t0.34%\n",
      "Number of unique values: 24640\n",
      "Distribution: \n",
      "1.0       5038286\n",
      "2.0        793944\n",
      "3.0        313861\n",
      "4.0        237297\n",
      "5.0        207359\n",
      "6.0        133272\n",
      "10.0        94602\n",
      "8.0         46528\n",
      "30.0        39982\n",
      "20.0        33459\n",
      "25.0        31182\n",
      "7.0         29881\n",
      "15.0        25846\n",
      "12.0        25039\n",
      "9.0         14185\n",
      "24.0         9855\n",
      "35.0         8587\n",
      "40.0         7768\n",
      "50.0         6197\n",
      "16.0         5725\n",
      "18.0         5476\n",
      "22.0         5460\n",
      "11.0         5460\n",
      "13.0         4844\n",
      "14.0         4701\n",
      "26.0         4651\n",
      "28.0         4525\n",
      "32.0         3952\n",
      "60.0         3793\n",
      "27.0         3009\n",
      "           ...   \n",
      "2250.0          1\n",
      "167.0           1\n",
      "166.0           1\n",
      "162.0           1\n",
      "234.0           1\n",
      "242.0           1\n",
      "346.0           1\n",
      "243.0           1\n",
      "345.0           1\n",
      "338.0           1\n",
      "334.0           1\n",
      "311.0           1\n",
      "309.0           1\n",
      "123.0           1\n",
      "305.0           1\n",
      "302.0           1\n",
      "298.0           1\n",
      "296.0           1\n",
      "293.0           1\n",
      "287.0           1\n",
      "276.0           1\n",
      "265.0           1\n",
      "263.0           1\n",
      "258.0           1\n",
      "256.0           1\n",
      "255.0           1\n",
      "247.0           1\n",
      "246.0           1\n",
      "245.0           1\n",
      "2500.0          1\n",
      "Name: Resource Quantity, Length: 341, dtype: int64\n"
     ]
    }
   ],
   "source": [
    "show_distribution('Resource Quantity')"
   ]
  },
  {
   "cell_type": "code",
   "execution_count": 26,
   "metadata": {},
   "outputs": [
    {
     "name": "stdout",
     "output_type": "stream",
     "text": [
      "Nulls: \n",
      "24310\t0.34%\n",
      "Number of unique values: 74563\n",
      "Distribution: \n",
      "29.99      141999\n",
      "19.99      111959\n",
      "9.99        92381\n",
      "49.99       87305\n",
      "5.10        80749\n",
      "14.99       79990\n",
      "39.99       78716\n",
      "6.99        78139\n",
      "7.99        69588\n",
      "24.99       68549\n",
      "5.83        64438\n",
      "3.99        63723\n",
      "2.91        62336\n",
      "12.99       61790\n",
      "5.99        56355\n",
      "4.99        56111\n",
      "8.99        52161\n",
      "4.37        50158\n",
      "16.99       47606\n",
      "69.99       43975\n",
      "11.99       36535\n",
      "7.29        36294\n",
      "59.99       34118\n",
      "34.99       33293\n",
      "15.99       33258\n",
      "3.64        33049\n",
      "79.99       31731\n",
      "6.56        29108\n",
      "13.13       28732\n",
      "10.99       28456\n",
      "            ...  \n",
      "111.21          1\n",
      "136.07          1\n",
      "385.38          1\n",
      "1359.95         1\n",
      "386.37          1\n",
      "1353.95         1\n",
      "838.62          1\n",
      "387.87          1\n",
      "3901.99         1\n",
      "384.63          1\n",
      "150.18          1\n",
      "1398.95         1\n",
      "396.38          1\n",
      "827.88          1\n",
      "3933.24         1\n",
      "150.07          1\n",
      "1454.59         1\n",
      "1405.05         1\n",
      "828.88          1\n",
      "151.18          1\n",
      "1448.84         1\n",
      "3904.99         1\n",
      "96.46           1\n",
      "1395.30         1\n",
      "830.87          1\n",
      "826.88          1\n",
      "825.37          1\n",
      "8495.00         1\n",
      "150.68          1\n",
      "437.11          1\n",
      "Name: Resource Unit Price, Length: 50253, dtype: int64\n"
     ]
    }
   ],
   "source": [
    "show_distribution('Resource Unit Price')"
   ]
  },
  {
   "cell_type": "code",
   "execution_count": 27,
   "metadata": {},
   "outputs": [
    {
     "name": "stdout",
     "output_type": "stream",
     "text": [
      "Nulls: \n",
      "81994\t1.14%\n"
     ]
    },
    {
     "ename": "TypeError",
     "evalue": "'<' not supported between instances of 'str' and 'float'",
     "output_type": "error",
     "traceback": [
      "\u001b[0;31m---------------------------------------------------------------------------\u001b[0m",
      "\u001b[0;31mTypeError\u001b[0m                                 Traceback (most recent call last)",
      "\u001b[0;32m<ipython-input-27-591fad1ce625>\u001b[0m in \u001b[0;36m<module>\u001b[0;34m\u001b[0m\n\u001b[0;32m----> 1\u001b[0;31m \u001b[0mshow_distribution\u001b[0m\u001b[0;34m(\u001b[0m\u001b[0;34m'Resource Vendor Name'\u001b[0m\u001b[0;34m)\u001b[0m\u001b[0;34m\u001b[0m\u001b[0;34m\u001b[0m\u001b[0m\n\u001b[0m",
      "\u001b[0;32m<ipython-input-2-45547b260ddf>\u001b[0m in \u001b[0;36mshow_distribution\u001b[0;34m(Question)\u001b[0m\n\u001b[1;32m      4\u001b[0m     \u001b[0mprint\u001b[0m\u001b[0;34m(\u001b[0m\u001b[0;34m'Nulls: '\u001b[0m\u001b[0;34m)\u001b[0m\u001b[0;34m\u001b[0m\u001b[0;34m\u001b[0m\u001b[0m\n\u001b[1;32m      5\u001b[0m     \u001b[0mprint\u001b[0m\u001b[0;34m(\u001b[0m\u001b[0mstr\u001b[0m\u001b[0;34m(\u001b[0m\u001b[0mnulls\u001b[0m\u001b[0;34m)\u001b[0m \u001b[0;34m+\u001b[0m \u001b[0;34m\"\\t\"\u001b[0m \u001b[0;34m+\u001b[0m \u001b[0mstr\u001b[0m\u001b[0;34m(\u001b[0m\u001b[0mround\u001b[0m\u001b[0;34m(\u001b[0m\u001b[0mnulls\u001b[0m\u001b[0;34m/\u001b[0m\u001b[0mn_rows\u001b[0m\u001b[0;34m*\u001b[0m\u001b[0;36m100\u001b[0m\u001b[0;34m,\u001b[0m\u001b[0;36m2\u001b[0m\u001b[0;34m)\u001b[0m\u001b[0;34m)\u001b[0m \u001b[0;34m+\u001b[0m \u001b[0;34m'%'\u001b[0m\u001b[0;34m)\u001b[0m\u001b[0;34m\u001b[0m\u001b[0;34m\u001b[0m\u001b[0m\n\u001b[0;32m----> 6\u001b[0;31m     \u001b[0mprint\u001b[0m\u001b[0;34m(\u001b[0m\u001b[0;34m'Number of unique values:'\u001b[0m\u001b[0;34m,\u001b[0m \u001b[0mlen\u001b[0m\u001b[0;34m(\u001b[0m\u001b[0mnp\u001b[0m\u001b[0;34m.\u001b[0m\u001b[0munique\u001b[0m\u001b[0;34m(\u001b[0m\u001b[0mdata\u001b[0m\u001b[0;34m[\u001b[0m\u001b[0mQuestion\u001b[0m\u001b[0;34m]\u001b[0m\u001b[0;34m)\u001b[0m\u001b[0;34m)\u001b[0m\u001b[0;34m)\u001b[0m\u001b[0;34m\u001b[0m\u001b[0;34m\u001b[0m\u001b[0m\n\u001b[0m\u001b[1;32m      7\u001b[0m     \u001b[0mprint\u001b[0m\u001b[0;34m(\u001b[0m\u001b[0;34m'Distribution: '\u001b[0m\u001b[0;34m)\u001b[0m\u001b[0;34m\u001b[0m\u001b[0;34m\u001b[0m\u001b[0m\n\u001b[1;32m      8\u001b[0m     \u001b[0mprint\u001b[0m\u001b[0;34m(\u001b[0m\u001b[0mdata\u001b[0m\u001b[0;34m[\u001b[0m\u001b[0mQuestion\u001b[0m\u001b[0;34m]\u001b[0m\u001b[0;34m.\u001b[0m\u001b[0mvalue_counts\u001b[0m\u001b[0;34m(\u001b[0m\u001b[0;34m)\u001b[0m\u001b[0;34m)\u001b[0m\u001b[0;34m\u001b[0m\u001b[0;34m\u001b[0m\u001b[0m\n",
      "\u001b[0;32m~/anaconda3/lib/python3.7/site-packages/numpy/lib/arraysetops.py\u001b[0m in \u001b[0;36munique\u001b[0;34m(ar, return_index, return_inverse, return_counts, axis)\u001b[0m\n\u001b[1;32m    231\u001b[0m     \u001b[0mar\u001b[0m \u001b[0;34m=\u001b[0m \u001b[0mnp\u001b[0m\u001b[0;34m.\u001b[0m\u001b[0masanyarray\u001b[0m\u001b[0;34m(\u001b[0m\u001b[0mar\u001b[0m\u001b[0;34m)\u001b[0m\u001b[0;34m\u001b[0m\u001b[0;34m\u001b[0m\u001b[0m\n\u001b[1;32m    232\u001b[0m     \u001b[0;32mif\u001b[0m \u001b[0maxis\u001b[0m \u001b[0;32mis\u001b[0m \u001b[0;32mNone\u001b[0m\u001b[0;34m:\u001b[0m\u001b[0;34m\u001b[0m\u001b[0;34m\u001b[0m\u001b[0m\n\u001b[0;32m--> 233\u001b[0;31m         \u001b[0mret\u001b[0m \u001b[0;34m=\u001b[0m \u001b[0m_unique1d\u001b[0m\u001b[0;34m(\u001b[0m\u001b[0mar\u001b[0m\u001b[0;34m,\u001b[0m \u001b[0mreturn_index\u001b[0m\u001b[0;34m,\u001b[0m \u001b[0mreturn_inverse\u001b[0m\u001b[0;34m,\u001b[0m \u001b[0mreturn_counts\u001b[0m\u001b[0;34m)\u001b[0m\u001b[0;34m\u001b[0m\u001b[0;34m\u001b[0m\u001b[0m\n\u001b[0m\u001b[1;32m    234\u001b[0m         \u001b[0;32mreturn\u001b[0m \u001b[0m_unpack_tuple\u001b[0m\u001b[0;34m(\u001b[0m\u001b[0mret\u001b[0m\u001b[0;34m)\u001b[0m\u001b[0;34m\u001b[0m\u001b[0;34m\u001b[0m\u001b[0m\n\u001b[1;32m    235\u001b[0m \u001b[0;34m\u001b[0m\u001b[0m\n",
      "\u001b[0;32m~/anaconda3/lib/python3.7/site-packages/numpy/lib/arraysetops.py\u001b[0m in \u001b[0;36m_unique1d\u001b[0;34m(ar, return_index, return_inverse, return_counts)\u001b[0m\n\u001b[1;32m    279\u001b[0m         \u001b[0maux\u001b[0m \u001b[0;34m=\u001b[0m \u001b[0mar\u001b[0m\u001b[0;34m[\u001b[0m\u001b[0mperm\u001b[0m\u001b[0;34m]\u001b[0m\u001b[0;34m\u001b[0m\u001b[0;34m\u001b[0m\u001b[0m\n\u001b[1;32m    280\u001b[0m     \u001b[0;32melse\u001b[0m\u001b[0;34m:\u001b[0m\u001b[0;34m\u001b[0m\u001b[0;34m\u001b[0m\u001b[0m\n\u001b[0;32m--> 281\u001b[0;31m         \u001b[0mar\u001b[0m\u001b[0;34m.\u001b[0m\u001b[0msort\u001b[0m\u001b[0;34m(\u001b[0m\u001b[0;34m)\u001b[0m\u001b[0;34m\u001b[0m\u001b[0;34m\u001b[0m\u001b[0m\n\u001b[0m\u001b[1;32m    282\u001b[0m         \u001b[0maux\u001b[0m \u001b[0;34m=\u001b[0m \u001b[0mar\u001b[0m\u001b[0;34m\u001b[0m\u001b[0;34m\u001b[0m\u001b[0m\n\u001b[1;32m    283\u001b[0m     \u001b[0mmask\u001b[0m \u001b[0;34m=\u001b[0m \u001b[0mnp\u001b[0m\u001b[0;34m.\u001b[0m\u001b[0mempty\u001b[0m\u001b[0;34m(\u001b[0m\u001b[0maux\u001b[0m\u001b[0;34m.\u001b[0m\u001b[0mshape\u001b[0m\u001b[0;34m,\u001b[0m \u001b[0mdtype\u001b[0m\u001b[0;34m=\u001b[0m\u001b[0mnp\u001b[0m\u001b[0;34m.\u001b[0m\u001b[0mbool_\u001b[0m\u001b[0;34m)\u001b[0m\u001b[0;34m\u001b[0m\u001b[0;34m\u001b[0m\u001b[0m\n",
      "\u001b[0;31mTypeError\u001b[0m: '<' not supported between instances of 'str' and 'float'"
     ]
    }
   ],
   "source": [
    "show_distribution('Resource Vendor Name')"
   ]
  },
  {
   "cell_type": "markdown",
   "metadata": {},
   "source": [
    "Achou novamente dois tipos que não consegue comparar"
   ]
  },
  {
   "cell_type": "code",
   "execution_count": 28,
   "metadata": {},
   "outputs": [],
   "source": [
    "data = data.where((pd.notnull(data['Resource Vendor Name'])), 'None')"
   ]
  },
  {
   "cell_type": "code",
   "execution_count": 29,
   "metadata": {},
   "outputs": [
    {
     "name": "stdout",
     "output_type": "stream",
     "text": [
      "Nulls: \n",
      "0\t0.0%\n",
      "Number of unique values: 32\n",
      "Distribution: \n",
      "Amazon Business                       3203262\n",
      "Lakeshore Learning Materials          1080820\n",
      "AKJ Education                          964495\n",
      "Best Buy Education                     315859\n",
      "School Specialty                       240064\n",
      "Quill.com                              222896\n",
      "Kaplan Early Learning Company          194288\n",
      "Blick Art Materials                    166818\n",
      "Staples Advantage                      163323\n",
      "Nasco                                  126483\n",
      "Teachers' School Supply                 93609\n",
      "None                                    81994\n",
      "Woodwind and Brasswind                  78155\n",
      "Carolina Biological Supply Company      64367\n",
      "DICK'S Sporting Goods                   49407\n",
      "Frey Scientific                         37414\n",
      "CDW-G                                   36196\n",
      "Scholastic Classroom Magazines          35173\n",
      "Grainger                                17817\n",
      "TIME for Kids                           11731\n",
      "Sargent-Welch                            8756\n",
      "ABC School Supply                        5192\n",
      "Britannica Digital Learning              2316\n",
      "Sax Arts & Crafts                        2028\n",
      "MakerBot                                 1928\n",
      "LEGO Education                           1680\n",
      "Sportime                                 1298\n",
      "Abilitations                             1114\n",
      "Childcraft                                921\n",
      "Ward's Science                            608\n",
      "Cannon Sports                             430\n",
      "BSN                                         6\n",
      "Name: Resource Vendor Name, dtype: int64\n"
     ]
    }
   ],
   "source": [
    "show_distribution('Resource Vendor Name')"
   ]
  },
  {
   "cell_type": "markdown",
   "metadata": {},
   "source": [
    "Basta substituir as colunas que contêm strings pela constante 'None'"
   ]
  },
  {
   "cell_type": "code",
   "execution_count": 30,
   "metadata": {},
   "outputs": [],
   "source": [
    "data = data.where((pd.notnull(data['Resource Item Name'])), 'None')"
   ]
  },
  {
   "cell_type": "code",
   "execution_count": 31,
   "metadata": {
    "scrolled": false
   },
   "outputs": [
    {
     "name": "stdout",
     "output_type": "stream",
     "text": [
      "Nulls: \n",
      "0\t0.0%\n",
      "Number of unique values: 1028835\n",
      "Distribution: \n",
      "None                                                                                                                                                                                                        82468\n",
      "standard shipping                                                                                                                                                                                           11467\n",
      "apple&#174; ipad&#174; mini wi-fi - tablet - ios 6 - 16 gb - 7.9                                                                                                                                            10916\n",
      "wonder                                                                                                                                                                                                       6758\n",
      "apple - ipad� mini 2 with wi-fi - 16gb - space gray                                                                                                                                                          6478\n",
      "apple - ipad� mini 2 with wi-fi - 16gb - silver                                                                                                                                                              4966\n",
      "norwood commercial furniture nor-1101ac-so plastic stack stools, 17.75\" height, 11.75\" width, 11.75\" length, assorted (pack of 5)                                                                            4607\n",
      "apple&#174; ipad&#174; 2 wi-fi - tablet - ios 5 - 16 gb - 9.7'                                                                                                                                               4339\n",
      "jj689 - privacy partition - set of 10                                                                                                                                                                        4301\n",
      "dd370x - soft seats - set of 6                                                                                                                                                                               3957\n",
      "gaiam kids stay-n-play balance ball, lime                                                                                                                                                                    3750\n",
      "dd105 - black write & wipe markers - thin-line - set of 4                                                                                                                                                    3542\n",
      "hp - 11.6'chromebook - intel celeron - 2gb memory - 16gb emmc flash memory - black                                                                                                                           3164\n",
      "apple - ipad (latest model) with wifi - 32gb - space gray                                                                                                                                                    3161\n",
      "gaiam kids stay-n-play balance ball, blue                                                                                                                                                                    3134\n",
      "jj119x - at-your-seat storage sack - set of 10                                                                                                                                                               3084\n",
      "kore patented wobble chair, made in the usa, active sitting for toddler, pre-school, kids, and teens; kids don't have to sit still anymore - \"the best seat in any classroom\"! - blue - kids (14in)          3061\n",
      "acer - 11.6'chromebook - intel celeron - 2gb memory - 16gb emmc flash memory - moonstone white                                                                                                               2935\n",
      "osmo genius kit                                                                                                                                                                                              2883\n",
      "jj518 - classroom magnetic letters kit                                                                                                                                                                       2815\n",
      "aa758x - connect & store book bins - set of 6                                                                                                                                                                2793\n",
      "the one and only ivan                                                                                                                                                                                        2778\n",
      "apple ipad mini md531ll/a (16gb, wi-fi, white / silver)                                                                                                                                                      2774\n",
      "dg547 - magna-tiles&#174; - master set                                                                                                                                                                       2708\n",
      "ck30bu - big beanbag seat - blue                                                                                                                                                                             2695\n",
      "apple ipad mini md528ll/a (16gb, wi-fi, black & slate)                                                                                                                                                       2637\n",
      "dd220x - multipurpose headphones with volume control - set of 8                                                                                                                                              2561\n",
      "dixon ticonderoga wood-cased #2 hb pencils, box of 96, yellow (13872)                                                                                                                                        2505\n",
      "apple&#174; ipad&#174; with retina display wi-fi - 4th generation - tablet - ios 6 - 16 gb - 9.7'                                                                                                            2495\n",
      "kc70 - write & wipe lapboard - set of 10                                                                                                                                                                     2448\n",
      "                                                                                                                                                                                                            ...  \n",
      "sony vpl-dw120 2600 lumens wxga 3lcd projector                                                                                                                                                                  1\n",
      "color knife set - top stainless steel knife set - gift set in box by ledishtm - includes chef, bread, slicer, santoku, utility, paring knife - plus magnetic strip and professional sharpener                   1\n",
      "12.9-inch ipad pro keyboard case, iegrow 7 color backlit keyboard with removeable smart magnetic folio pu leather case with auto sleep / wake (ipad pro 12.9 inch,gold pink)                                    1\n",
      "penguin's family: the story of a humboldt penguin - a smithsonian oceanic collection book                                                                                                                       1\n",
      "children's themed backpack with sturdy straps and removable insulated lunch bag (frozen)                                                                                                                        1\n",
      "defying gravity! rock climbing                                                                                                                                                                                  1\n",
      "basketball (science behind sports)                                                                                                                                                                              1\n",
      "male styrofoam mannequin head display                                                                                                                                                                           1\n",
      "nautica dress up boys 8-20 poplin shirt and tie set,cornflower,10                                                                                                                                               1\n",
      "nfl denver broncos '47 raised cuff knit hat, navy, one size                                                                                                                                                     1\n",
      "andaz press hanging paper lantern party decor trio kit with free party sign, ivory, coral, diamond blue, 6-pack, for peach mint robin's egg baby bridal shower easter classroom decorations                     1\n",
      "linsanity                                                                                                                                                                                                       1\n",
      "victorious mens twill jogger pants, burnt orange med                                                                                                                                                            1\n",
      "ruby lu, empress of everything (ruby lu (quality))                                                                                                                                                              1\n",
      "niteangel wooden hamster mouse small animals lookout platform                                                                                                                                                   1\n",
      "magnetic whiteboard utility pockets, black paws                                                                                                                                                                 1\n",
      "lucog i5 plus version 3.0 fitness tracker with vertical clock display & morning wake up buzz vibration reminder use updated zeroner health 3.0 app (waterproof black 3.0)                                       1\n",
      "math foundations:: grade 3 (ebook)                                                                                                                                                                              1\n",
      "lego minifigures series 5 - boxer                                                                                                                                                                               1\n",
      "freedom song: the story of henry &quot;box&quot; brown                                                                                                                                                          1\n",
      "apollo tool grabber cut protect glove, ansi 5 / a6, touch screen, uncoated, large, grey                                                                                                                         1\n",
      "a15 loudspeaker pair                                                                                                                                                                                            1\n",
      "usb 3.0 hub, hhusali 7-port superspeed usb 3.0 hub with 1 usb charging port and power supply adapte                                                                                                             1\n",
      "neenah exact 90-lb. paper 8-1/2 x 11\", letter, ivory, 250/pack                                                                                                                                                  1\n",
      "blami arts chalk markers reversible tip - 12 pack erasable neon bright non-toxic paint -extra gold & silver liquid ink pens for non-porous chalkboards and bistro glass windows - eraser sponge included        1\n",
      "mact 5finger foam bowling ball  3 lbs., 578 dia.                                                                                                                                                                1\n",
      "crayola fashion superstar, coloring book and app, toy for girls, gift ages 8, 9, 10, 11, 12                                                                                                                     1\n",
      "kids i love dinosaurs shirt, funny cute t rex dinosaur heart gift 10 red                                                                                                                                        1\n",
      "hape modern family - grandma & grandpa set                                                                                                                                                                      1\n",
      "tip and sip toy juice bottles, set of 6                                                                                                                                                                         1\n",
      "Name: Resource Item Name, Length: 1028835, dtype: int64\n"
     ]
    }
   ],
   "source": [
    "show_distribution('Resource Item Name')"
   ]
  },
  {
   "cell_type": "markdown",
   "metadata": {},
   "source": [
    "# Queries que podem ser interessantes\n",
    "## Resources\n",
    "\n",
    "itens mais pedidos.\n",
    "\n",
    "sites de vendedores a quem são feitos mais pedidos\n",
    "\n",
    "preço total dos pedidos por ano\n",
    "\n",
    "## Donations\n",
    "\n",
    "Top Doadores\n",
    "\n",
    "Que projetos tiveram mais doaçoes.\n",
    "\n",
    "Projetos que angariaram mais dinheiro.\n",
    "\n",
    "dinheiro angariado por ano"
   ]
  }
 ],
 "metadata": {
  "kernelspec": {
   "display_name": "Python 3",
   "language": "python",
   "name": "python3"
  },
  "language_info": {
   "codemirror_mode": {
    "name": "ipython",
    "version": 3
   },
   "file_extension": ".py",
   "mimetype": "text/x-python",
   "name": "python",
   "nbconvert_exporter": "python",
   "pygments_lexer": "ipython3",
   "version": "3.7.1"
  }
 },
 "nbformat": 4,
 "nbformat_minor": 2
}
